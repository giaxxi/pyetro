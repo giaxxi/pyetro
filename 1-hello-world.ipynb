{
 "cells": [
  {
   "cell_type": "markdown",
   "metadata": {},
   "source": [
    "#  <font color='darkgray'>1.</font> <font color='black'>Hello world!</font>\n",
    "\n",
    "As per the tradition, this is the **Hello World!** program.\n",
    "\n",
    "Just run the cell below. How? Read the explanation on section **[How does the notebook work?](#How-does-the-notebook-work?-Come-funziona-il-notebook?)**\n",
    "\n",
    "---\n",
    "🇮🇹 <small style=\"color:gray\">**Hello World!** | Come da tradizione, questo è il programma **Hello World!** | Esegui il codice nella cella qui sotto. Come? Leggi la spiegazione nella sezione **[Come funziona il notebook?](#How-does-the-notebook-work?-Come-funziona-il-notebook?)**</small>"
   ]
  },
  {
   "cell_type": "code",
   "execution_count": null,
   "metadata": {},
   "outputs": [],
   "source": [
    "# Hello World! program\n",
    "\n",
    "print(\"Hello World!\")"
   ]
  },
  {
   "cell_type": "markdown",
   "metadata": {},
   "source": [
    "## <font color='darkgray'>2.1. </font><font color='royalblue'>How does the notebook work?</font>\n",
    "\n",
    "The notebook is made by cells, each cell can be either a **`code` cell** or a **`markdown` cell**.\n",
    "\n",
    "A `markdown` just contain formatted text: this is a `markdown` cell.\n",
    "\n",
    "The **Hello World!** program is in a `code` cell. Close to the left side of a `code` cell you can see the text `In[n]` which stands for _Input_.\n",
    "\n",
    "Switch between `markdown` and `code` using the dropdown in menu. Or use keys `Y` for `code` and `M` for `markdown`\n",
    "\n",
    "Double click to edit the `markdown` cell. Just click to edit the `code` cell.\n",
    "\n",
    "`⇧Shift + Enter` to run the `code` or show the formatted `markdown`.\n",
    "\n",
    "**The output of the run appears just below the executed cell.**\n",
    "\n",
    "For more information, refer to the [official Jupyter Notebook Documentation](https://jupyter-notebook.readthedocs.io/en/stable/examples/Notebook/examples_index.html).\n",
    "\n",
    "Now you are ready, go for running the [Hello World! program](#Hello-world!).\n",
    "\n",
    "---\n",
    "🇮🇹<small>**Come funziona il notebook?**</small> | <small style=\"color:gray\">Il notebook è formato da celle. | Le celle possono essere di `codice` o di testo `markdown` | Una `markdown` contiene testo formattato, questa è una cella di `markdown`. | Il programma **Hello World!** è in una cella di `codice`. | Alla sinistra di una cella di `codice` puoi vedere il testo `In[n]`, che sta per \"Input\" | Cambia fra `markdown` e `codidce` usando il menu a tendina. Oppure usa il tasto `Y` per il `codice` e `M` per il `markdown` | Doppio click per editre il `markdown`. Click semplice per editare la cella di `codice` | `⇧Shift + Invio` per eseguire il codice o mostrare `code` il `markdown` formattato. | **Il risultato dell'esecuzione del `codice` appare sotto la cella eseguita**. | Per maggiori informazioni, fa riferimento alla [documentazione ufficiale Jupyter Notebook](https://jupyter-notebook.readthedocs.io/en/stable/examples/Notebook/examples_index.html). | Sì, la documentazione per qualsiasi linguaggio di programmazione o strumento utile è in inglese. **Impara l'inglese** 😎 | Ora puoi eseguire il programma [Hello World! program](#Hello-world!).\n",
    "</small>"
   ]
  },
  {
   "cell_type": "markdown",
   "metadata": {},
   "source": [
    "## <font color='darkgray'>1.2. </font><font color='royalblue'>Try the RUN command yourself</font>\n",
    "\n",
    "Try edit and run the here below ells. The first is a `markdown`, the second is `code`.\n",
    "\n",
    "---\n",
    "🇮🇹<small>**Prova tu il comando RUN?**</small> | <small style=\"color:gray\">Prova edita ed esegui le celle qui sotto. La prima è un `markdown`, la seconda è `codice`.</small>"
   ]
  },
  {
   "cell_type": "markdown",
   "metadata": {},
   "source": [
    "### This is a `markdown` cell.\n",
    "\n",
    "Double click to edit.\n",
    "\n",
    "Run it with the `Run` key or `⇧Shift + Enter`\n",
    "\n",
    "---\n",
    "🇮🇹<small style=\"color:gray\">**Questa è una cella di `markdown`.** | Doppio click per editare. | Pulsante `Run` o `⇧Shift + Invio` per eseguire.</small>\n",
    "\n",
    "---"
   ]
  },
  {
   "cell_type": "code",
   "execution_count": null,
   "metadata": {},
   "outputs": [],
   "source": [
    "# This is a code cell, before you run it, guess the output.\n",
    "# Questa è una cella di codice, prima di eseguirla, indovina l'esito. \n",
    "\n",
    "2 + 2"
   ]
  },
  {
   "cell_type": "markdown",
   "metadata": {},
   "source": [
    "## <font color='sienna'>That's all for now, see you in the next Notebook</font>\n",
    "\n",
    "---\n",
    "🇮🇹**È tutto per ora, ci vediamo nel prossimo Notebook**"
   ]
  },
  {
   "cell_type": "code",
   "execution_count": null,
   "metadata": {},
   "outputs": [],
   "source": []
  }
 ],
 "metadata": {
  "kernelspec": {
   "display_name": "Python 3",
   "language": "python",
   "name": "python3"
  },
  "language_info": {
   "codemirror_mode": {
    "name": "ipython",
    "version": 3
   },
   "file_extension": ".py",
   "mimetype": "text/x-python",
   "name": "python",
   "nbconvert_exporter": "python",
   "pygments_lexer": "ipython3",
   "version": "3.7.7"
  }
 },
 "nbformat": 4,
 "nbformat_minor": 4
}
