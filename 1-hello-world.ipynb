{
 "cells": [
  {
   "cell_type": "markdown",
   "metadata": {},
   "source": [
    "#  1. Hello world!\n",
    "As per the coding tradition, the **Hello World!** program is in this notebook, but let's check how a notebook works.\n",
    "\n",
    "---\n",
    "🇮🇹 **Hello World!** | Come da tradizione per il coding, il programma **Hello World!** è in questo notebook, ma vediamo come un notebook funziona"
   ]
  },
  {
   "cell_type": "markdown",
   "metadata": {},
   "source": [
    "## 1.1. How does the notebook work?\n",
    "\n",
    "The notebook is made by cells.\n",
    "\n",
    "Each cell can either be a __`code` cell__ or a __`markdown` cell__.\n",
    "\n",
    "You can select a cell clicking on it.\n",
    "\n",
    "__Try it out:__ click on any point of the notebook and you will see the cell highlighted.\n",
    "\n",
    "Switch between `markdown` and `code` using the dropdown in menu. Or use keys `Y` for `code` and `M` for `markdown`\n",
    "\n",
    "![Switch between code and markdown](https://github.com/giaxxi/pyetro/blob/master/assets/images/switch-code-markdown.jpg?raw=true \"Switch between code and markdown\")\n",
    "\n",
    "---\n",
    "🇮🇹 __Come funziona il notebook?__ | Il notebook è formato da celle. | Ciascuna cella può essere di codice o di markdown. | Puoi selezionare una cella cliccandoci sopra. | __Prova:__ clicca su qualunque punto del notebook e vedrai la cella evidenziata | Cambia fra `markdown` e `codidce` usando il menu a tendina o i tasti `Y` per il `codice` e `M` per il `markdown`"
   ]
  },
  {
   "cell_type": "markdown",
   "metadata": {},
   "source": [
    "### 1.1.1. Markdown cells\n",
    "\n",
    "A `markdown` just contain formatted text: this same explanation is placed in a `markdown` cell.\n",
    "\n",
    "Double click to edit any `markdown` cell.\n",
    "\n",
    "`⇧Shift + Enter` or __Run__ button to show the formatted `markdown`.\n",
    "\n",
    "__Try yourself on this cell:__ double click then Run\n",
    "\n",
    "---\n",
    "🇮🇹 **Celle di markdown** | Una cella `markdown` contiene testo formattato: questa spiegazione è in una cella di `markdown`. | Doppio click per editre la cella di `markdown`. | `⇧Shift + Invio` o il pulsante __Run__ per mostrare il testo formattato. | __Prova tu su questa cella:__ doppio click, poi __Run__."
   ]
  },
  {
   "cell_type": "markdown",
   "metadata": {},
   "source": [
    "### 1.1.2. Code cells\n",
    "\n",
    "A code cell contains `code`! 😁\n",
    "\n",
    "A `code` is some kind of a text which a computer can understand and execute giving an output at the end of the run.\n",
    "\n",
    "It is easy to discover a code cell: there is this text close to the left __`In[ ]:`__, which stands for _Input number_.\n",
    "\n",
    "Just click to edit the `code` cell.\n",
    "\n",
    "`⇧Shift + Enter` or __Run__ button to run the `code`.\n",
    "\n",
    "**The output of the run appears just below the executed cell.**\n",
    "\n",
    "\n",
    "---\n",
    "🇮🇹 **Celle di codice** | Una cella di codice contiene `codice`! | Il `codice` è un certo tipo di testo che un computer può capire ed eseguire dando un risultato (output) alla fine dell'esecuzione. |  È facile scoprire una cella di codice perché alla sinistra trovi questo testo __`In[ ]:`__, che sta a significare _Input numero_."
   ]
  },
  {
   "cell_type": "markdown",
   "metadata": {},
   "source": [
    "## 1.2. Run the code: Hello World!</font>\n",
    "\n",
    "Run the code cells below and see the result!\n",
    "\n",
    "![Click run to execute](https://github.com/giaxxi/pyetro/blob/master/assets/images/click-run.jpg?raw=true \"Click run to execute\")\n",
    "\n",
    "The first cell is the Hello World! program, click on it then run.\n",
    "\n",
    "The second cell is just a ..., check yourself and play!\n",
    "\n",
    "---\n",
    "🇮🇹 **Esegui il codice: Hello World!** | Esegui le celle di codice quì sotto e vedi il risultato! | La prima cella è il programma Hello World!, cliccala ed eseguila. | La seconda cella è solo una ..., verifica tu e giocaci!"
   ]
  },
  {
   "cell_type": "code",
   "execution_count": null,
   "metadata": {},
   "outputs": [],
   "source": [
    "# Hello World!\n",
    "\n",
    "print(\"Hello World!\")"
   ]
  },
  {
   "cell_type": "code",
   "execution_count": null,
   "metadata": {},
   "outputs": [],
   "source": [
    "# This is a code cell, before you run it, guess the output.\n",
    "# Questa è una cella di codice, prima di eseguirla, indovina l'esito. \n",
    "\n",
    "2 + 2"
   ]
  },
  {
   "cell_type": "markdown",
   "metadata": {},
   "source": [
    "___\n",
    "\n",
    "## That's all for now, see you in the next Notebook\n",
    "\n",
    "Go to home page clicking on the Jupyter logo\n",
    "![Click the logo](https://github.com/giaxxi/pyetro/blob/master/assets/images/click-the-logo.jpg?raw=true \"Click the logo\")\n",
    "\n",
    "---\n",
    "🇮🇹 **È tutto per ora, ci vediamo nel prossimo Notebook** | Clicca il logo di Jupiter per tornale alla Home page"
   ]
  },
  {
   "cell_type": "code",
   "execution_count": null,
   "metadata": {},
   "outputs": [],
   "source": []
  }
 ],
 "metadata": {
  "kernelspec": {
   "display_name": "Python 3",
   "language": "python",
   "name": "python3"
  },
  "language_info": {
   "codemirror_mode": {
    "name": "ipython",
    "version": 3
   },
   "file_extension": ".py",
   "mimetype": "text/x-python",
   "name": "python",
   "nbconvert_exporter": "python",
   "pygments_lexer": "ipython3",
   "version": "3.7.7"
  }
 },
 "nbformat": 4,
 "nbformat_minor": 4
}
