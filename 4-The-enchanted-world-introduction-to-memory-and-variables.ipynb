{
 "cells": [
  {
   "cell_type": "markdown",
   "metadata": {},
   "source": [
    "#  4. The enchanted world - Introduction to memory and variables\n",
    "Turns out that's useful to preserve objects in a good place for any further usage necessity.\n",
    "\n",
    "For example, a pencil case is a nice place for pencils, and so.\n",
    "\n",
    "Mom stores food in a kitchen cabinet, in proper boxes.\n",
    "\n",
    "What a mess, having a pencil in the refrigerator🥶 or tomatoes🍅 in your pencil case!\n",
    "\n",
    "Keeping things in order is important.\n",
    "\n",
    "__Exists an enchanted world where whatever object finds and goes to its place, magically✨.__\n",
    "\n",
    "---\n",
    "🇮🇹 __Il mondo incantato - Introduzione a memoria e variabili__ | Torna utile conservare gli oggetti per poterli utilizzare al bisogno. | Per esempio, nell'astuccio conservi le matite, la gomma, il righello, eccetera. | La mamma conserva nella dispensa il cibo, suddiviso in varie scatole. | Pensa che casino avere le matite nel frigorifero o i pomodori nell'astuccio. | Mantenere le cose in ordine è importante. | __Esiste un mondo incantato in cui qualsiasi oggetto trova e va al suo posto, magicamente.__"
   ]
  },
  {
   "cell_type": "markdown",
   "metadata": {},
   "source": [
    "## 4.1. The enchanted world"
   ]
  },
  {
   "cell_type": "markdown",
   "metadata": {},
   "source": [
    "### 4.1.1. Mystery room\n",
    "\n",
    "In the enchanted world there is a kind of __mystery room__ used for storing __objects of a particular type__.\n",
    "\n",
    "That room is tiny. So tiny, that you cannot see it with the naked eye.\n",
    "\n",
    "Those objects are not scattered around the room, they must be stored into a certain kind of boxes:  __magical boxes__ ✨📦.\n",
    "\n",
    "---\n",
    "🇮🇹 __La stanza misteriosa__ | Nel mondo incantato c'è una __stanza misteriosa__ dove conservare degli oggetti speciali. | Questa stanza è piccolissima, tanto piccola che non la puoi vedere a occhio nudo. | Questi oggetti non possono essere sparsi nella stanza, devono essere messi dentro certe scatole: __scatole magiche__."
   ]
  },
  {
   "cell_type": "markdown",
   "metadata": {},
   "source": [
    "### 4.1.2. Magical boxes ✨📦\n",
    "The good is that these are __magical boxes__ and the objects materialize right inside the boxes just naming them!\n",
    "\n",
    "When you decide to put an object inside a box, you can't even choose which one, it just appears there, in whatever empty box.\n",
    "\n",
    "You can find out in which box, but only after it worked.\n",
    "\n",
    "Each box can contain no more than one object.\n",
    "\n",
    "If the object is too big for the box, it materializes chunked in many boxes.\n",
    "\n",
    "But the object doesn't break up in pieces, even if made of glass.\n",
    "\n",
    "Boxes are a lot and all together make a huge space, __but finite__.\n",
    "\n",
    "This huge amount of boxes, and their gigantic space, are enclosed in that tiny mystery room.\n",
    "\n",
    "---\n",
    "🇮🇹 __Scatole magiche__ | Il bello è che queste sono __scatole magiche__ e gli oggetti appaiono dentro scatole al solo nominarli! | Quando decidi di mette un oggetto in una scatola, non puoi scegliere in quale scatola metterlo, appare dentro una scatola qualunque. | Puoi scoprire solo in seguito in quale scatola si trova. | Ogni scatola può contenere un solo oggetto, ma di una dimensione precisa. Se l'oggetto è troppo grande, appare spezzettato in più scatole, ma non si rompe. Nemmeno se è di vetro. | Le scatole sono tantissime e tutte insieme formano uno spazio enorme, __ma finito__. | Questa enorme quantità di scatole, con il loro gigantesco spazio, stanno tutte nella minuscolissima stanza misteriosa."
   ]
  },
  {
   "cell_type": "markdown",
   "metadata": {},
   "source": [
    "### 4.1.3. Special labels ✨🏷\n",
    "Each box has a special label with a number on it.\n",
    "\n",
    "No box has the same number of other box, or it's a mess.\n",
    "\n",
    "It's not possible to write on any label, neither erase it nor change it. Labels are immutable.\n",
    "\n",
    "So, how to put an object in a box and how to retrieve it?\n",
    "\n",
    "---\n",
    "🇮🇹 __Etichette speciali__ | Ciascuna scatola ha un'etichetta speciale con scritto un numero. | Non ci sono due scatole con lo stesso numero, altrimenti ci si confonde. | Non puoi scrivere sull'etichetta, non puoi cancellarla e non puoi cambiarla. Le etichette sono immutabili. | Quindi, come mettere un oggetto in una scatola e come recuperarlo?"
   ]
  },
  {
   "cell_type": "markdown",
   "metadata": {},
   "source": [
    "### 4.1.4. Spellbook ✨📕\n",
    "For putting objects in a box, you need a spellbook to write in.\n",
    "\n",
    "You only have to write in this book to make objects appear right inside the boxes.\n",
    "\n",
    "You must spell a __magic word__ of your choice, which is used for boxing the object and retrieve it when you need it.\n",
    "\n",
    "---\n",
    "🇮🇹 __Libro degli incantesimi__ | Per mettere gli oggetti dentro le scatole serve un libro degli incantesimi su cui scrivere. | È sufficiente scrivere su questo libro per far apparire gli oggetti nelle scatole. | Devi __pronunciare una parola magica__ di tua invenzione, che serve per mettere via l'oggetto e poi recuperarlo quando ne avrai bisogno."
   ]
  },
  {
   "cell_type": "markdown",
   "metadata": {},
   "source": [
    "### 4.1.5. The magic word ✨\n",
    "\n",
    "Since the moment you declare it, the magic word will represent the object. Just call it again for making the object right in your hands.\n",
    "\n",
    "Let's say you want to put an object into a box, __for example__, the picture of your dog.\n",
    "\n",
    "Here is the spell you can use:\n",
    "\n",
    "> __I hereby declare `my_dog` to be the picture of my dog Boston__ 🐕\n",
    "\n",
    "Suddenly, each time you are calling `my_dog` the picture of Boston will appear! 🐕\n",
    "\n",
    "---\n",
    "🇮🇹 __La parola magica__ | Dal momento che l'avrai dichiarata, la parola magica rappresenterà l'oggetto. | Diciamo che vuoi mettere un oggetto, __per esempio__ la fotografia del tuo cane. | La formula che devi usare è la seguente: | \"__I hereby declare `my_dog` to be the picture of my dog Boston__\" | Improvvisamente, ogni volta che chiamerai `my_dog`, apparirà la fotografia di Boston!"
   ]
  },
  {
   "cell_type": "markdown",
   "metadata": {},
   "source": [
    "## 4.2. Getting real with the computer\n",
    "\n",
    "In the real world, well, things are just a bit different.\n",
    "\n",
    "So, the __enchanted world__ is the __computer__ and the __mystery room__ is the __computer memory__ (RAM).\n",
    "\n",
    "The __magic box__ is the __memory location__ and the __label__ is the __memory address__.\n",
    "\n",
    "The __spellbook__ is the __code__.\n",
    "\n",
    "The __magic word__ is the __variable name__ and the __object__ is the information __object__ representation.\n",
    "\n",
    "---\n",
    "🇮🇹 __In realtà, nel computer__ | Nel mondo reale, beh, le cose sono un poco diverse. | Così, il __mondo incantato__ è il __computer__ e la __stanza misteriosa__ è la __memoria__ del computer (RAM). | La __scatola magica__ è la __posizione nella memoria__ e l'__etichetta__ è l'__indirizzo__ dell posizione nella memoria. | Il __libro degli incantesimi__ è il __codice__. | La __parola magica__ è il __nome della variabile__ e l'__oggetto__ è la rappresentazione informatica dell'__oggetto__."
   ]
  },
  {
   "cell_type": "markdown",
   "metadata": {},
   "source": [
    "### 4.2.1. Let's recap in the following table\n",
    "Look at the following table to understand how the enchanted world becomes the computer.\n",
    "   \n",
    "| Enchanted world  | The  computer itself |\n",
    "| :--------------- | :------- |\n",
    "| Mystery room     | Computer memory |\n",
    "| Magic box        | Memory location |\n",
    "| Special label    | Memory location address |\n",
    "| Spellbook        | The code you write |\n",
    "| Magic word       | Variable name |\n",
    "| Object           | Information object representation |\n",
    "\n",
    "---\n",
    "🇮🇹 __Ricapitoliamo in questa tabella__ | Guarda la seguente tabella per capire come il mondo incantato diventa il computer."
   ]
  },
  {
   "cell_type": "markdown",
   "metadata": {},
   "source": [
    "### 4.2.2. Variable declaration\n",
    "\n",
    "Let's see how to use the magic word in the spellbook, I mean a __dichiarare variable in a code__:\n",
    "\n",
    "> `my_age = 12`\n",
    "\n",
    "It reads:\n",
    "> __I hereby declare `my_age` to contain `12`__.\n",
    "\n",
    "Try. Run the next cell.\n",
    "\n",
    "---\n",
    "🇮🇹 __Dichiarazione delle variabili__ | Vediamo come usare le parole magiche nel libro degli incantesimi, ovvero __dichiarare una variabile nel codice__ | Si legge: | __Io qui dichiaro che `my_age` contenga `12`__."
   ]
  },
  {
   "cell_type": "code",
   "execution_count": null,
   "metadata": {},
   "outputs": [],
   "source": [
    "my_age = 12"
   ]
  },
  {
   "cell_type": "markdown",
   "metadata": {},
   "source": [
    "Nothing happening? Right?\n",
    "\n",
    "__Wrong!__\n",
    "\n",
    "Now the objects, say the integer number `12` is in the __mystery room__.\n",
    "\n",
    "Let's call it back again, by spelling the magic word ✨ associated with it.\n",
    "\n",
    "---\n",
    "🇮🇹 Non succede nulla, giusto? | Sbagliato! | Ora gli oggetti, ovvero il numero inter0 `12` si trova nella __stanza misteriosa__. | Facciamolo riapparire, pronunciando la parola magica associata."
   ]
  },
  {
   "cell_type": "code",
   "execution_count": null,
   "metadata": {},
   "outputs": [],
   "source": [
    "# Retrieve the object by spelling its magic word\n",
    "# Recupera l'oggetto pronunciando la parola magica\n",
    "\n",
    "my_age"
   ]
  },
  {
   "cell_type": "markdown",
   "metadata": {},
   "source": [
    "⚠️ __Pay attention here__\n",
    "\n",
    "When you declare a variable, `my_age = 12`,\n",
    "<br>the equal sign `=` doesn't mean that `my_age` equals to `12`,\n",
    "<br>it means: __assign to `my_age` the object `12`__.\n",
    "\n",
    "---\n",
    "🇮🇹 __Fa attenzione qui__ | Quando dichiari una variabile, `my_age = 12`, | il simbolo \"uguale\" `=` non significa che `my_age` è uguale a `12` | significa: __assegna a `my_age` l'oggetto `12`__."
   ]
  },
  {
   "cell_type": "markdown",
   "metadata": {},
   "source": [
    "### 4.2.3. What makes a variable variable?\n",
    "\n",
    "Me call a variable as variable because is variable! 😁\n",
    "\n",
    "I mean, you can reassign a different object to a variable.\n",
    "\n",
    "__The old object is removed and replaced by the new one__\n",
    "\n",
    "---\n",
    "🇮🇹 __Cosa rende una variabile variabile__ | Una variabile è chiamata variabile perché è variabile. | Ovvero puoi riassegnarle un diverso oggetto | __Il vecchio oggetto è rimosso e sostituito dal nuovo__ |"
   ]
  },
  {
   "cell_type": "code",
   "execution_count": null,
   "metadata": {},
   "outputs": [],
   "source": [
    "# 10 and 20 are different objects placed in the same box\n",
    "# 10 e 20 sono oggetti diversi messi nello stesso ontenitore\n",
    "\n",
    "var_1 = 10\n",
    "print(var_1)\n",
    "var_1 = 20\n",
    "print(var_1)"
   ]
  },
  {
   "cell_type": "markdown",
   "metadata": {},
   "source": [
    "### 4.2.4. The object type, its label and size.\n",
    "Here I want you to show how to check the type of the object (called the __class__ of the object) and also the __special label__ and an estimation of the size of the object, say how much space it's taking in the room.\n",
    "\n",
    "\n",
    "---\n",
    "🇮🇹 __Il tipo di oggetto, la sua etichetta e la sua dimensione__ | Qui sotto voglio farti vedere come controllare il tipo di oggetto (la sua __classe__) e anche la sua etichetta e una stima della sua dimensione, cioè quanto spazio occupa nella stanza."
   ]
  },
  {
   "cell_type": "code",
   "execution_count": null,
   "metadata": {},
   "outputs": [],
   "source": [
    "# Which type of object is? It is an integer number, see the output: int\n",
    "# Che tipo di oggetto è? È un numero interi, vedi output: int\n",
    "\n",
    "var_1.__class__"
   ]
  },
  {
   "cell_type": "code",
   "execution_count": null,
   "metadata": {},
   "outputs": [],
   "source": [
    "# Memory address of the object (special label on the box)\n",
    "# Indirizzo di memoria dell'oggetto (l'etichetta speciale sulla scatola)\n",
    "\n",
    "id(var_1)"
   ]
  },
  {
   "cell_type": "code",
   "execution_count": null,
   "metadata": {},
   "outputs": [],
   "source": [
    "# The size of the object\n",
    "# La dimensione dell'oggetto.\n",
    "\n",
    "var_1.__sizeof__()"
   ]
  },
  {
   "cell_type": "markdown",
   "metadata": {},
   "source": [
    "---\n",
    "## Playground\n",
    "Use the following cell (or add more as you like) for playing around and testing your code.\n",
    "\n",
    "---\n",
    "🇮🇹 __Parco giochi__ | Use la seguente cella (o aggiungine altre) per giocare e provare il tuo codice."
   ]
  },
  {
   "cell_type": "code",
   "execution_count": null,
   "metadata": {},
   "outputs": [],
   "source": []
  },
  {
   "cell_type": "markdown",
   "metadata": {},
   "source": [
    "___\n",
    "\n",
    "## That's all for now, see you in the next Notebook\n",
    "\n",
    "Go to the home page by clicking on the Jupyter logo.\n",
    "![Click the logo](https://github.com/giaxxi/pyetro/blob/master/assets/images/click-the-logo.jpg?raw=true \"Click the logo\")\n",
    "\n",
    "---\n",
    "🇮🇹 **È tutto per ora, ci vediamo nel prossimo Notebook** | Clicca il logo di Jupiter per tornale alla Home page"
   ]
  }
 ],
 "metadata": {
  "kernelspec": {
   "display_name": "Python 3",
   "language": "python",
   "name": "python3"
  },
  "language_info": {
   "codemirror_mode": {
    "name": "ipython",
    "version": 3
   },
   "file_extension": ".py",
   "mimetype": "text/x-python",
   "name": "python",
   "nbconvert_exporter": "python",
   "pygments_lexer": "ipython3",
   "version": "3.7.7"
  }
 },
 "nbformat": 4,
 "nbformat_minor": 4
}
