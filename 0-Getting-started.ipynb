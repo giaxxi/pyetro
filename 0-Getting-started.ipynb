{
 "cells": [
  {
   "cell_type": "markdown",
   "metadata": {},
   "source": [
    "# 0. Getting started"
   ]
  },
  {
   "cell_type": "markdown",
   "metadata": {},
   "source": [
    "## 0.1. Intro\n",
    "\n",
    "This project is based on [Jupyter Notebook](https://jupyter.org), thanks Jupyter guys!\n",
    "\n",
    "You can use any notebook in this repo freely.\n",
    "\n",
    "Each notebook contains an explanation and some code that you can play with: modify, run, modify, learn.\n",
    "\n",
    "### How to use/run it?\n",
    "\n",
    "   - Just read the notebooks, which is ok but not interactive\n",
    "   - Interact with the Notebook 👍 by:\n",
    "       - __Binder__\n",
    "       - [Google Colab](http://colab.research.google.com)\n",
    "       - [Kaggle](https://www.kaggle.com/)\n",
    "       - Any on-line Jupyter Notebook service you like the most\n",
    "       - Clone to your machine and run there, with the help of somebody able to do so\n",
    " \n",
    " ---\n",
    " 🇮🇹 __Intro__ | Questo progetto è basato su Jupyter Notebook, grazie ragazzi di Jupyter! | Puoi usare liberamente ogni notebook in questo repository | Ciascun notebook contiene una spiegazione e del codice con cui giocare: modificalo, eseguilo, modificalo, impara. | Come usarlo/eseguirlo? | Leggi il notebook, che va bene ma non è interattivo. | Interagisci con il notebook, attraverso: - Binder - Google Colab - Kaggle - Qualunque altro servizio Jupyter Notebook on-line - Clona il repository sul tuo computer ed eseguilo localmente, con l'aiuto di qualcuno capace di farlo."
   ]
  },
  {
   "cell_type": "markdown",
   "metadata": {},
   "source": [
    "## 0.2 Getting started with Binder\n",
    "\n",
    "This image is a relevant crop of the Binder webpage.\n",
    "\n",
    "![Build and lauch repo on Binder](https://github.com/giaxxi/pyetro/blob/master/assets/images/binder-lauch-repo.jpg?raw=true \"Build and lauch repo on Binder\")\n",
    "\n",
    "__Follow these steps__\n",
    "\n",
    "   1. Copy this text: `giaxxi/pyetro.git` \n",
    "   2. Open the [Binder website](https://mybinder.org) in a new browser tab\n",
    "   3. Paste it on the GitHub field of the form\n",
    "   4. Click the __launch__ button 🚀\n",
    "   5. Be patient a while during the building\n",
    "   6. Done: you should be redirected to the notebook 📒\n",
    "   7. Enjoy! 🥳\n",
    " \n",
    "__That easy!__\n",
    "\n",
    "---\n",
    "🇮🇹 __Iniziare con Binder__ | Questa immagine è un ritaglio della pagina web di Binder. | Segui questi passi: | 1. Copia questo testo: `giaxxi/pyetro.git` | 2. Apri il sito di Binder in una nuova scheda del browser| 3. Incollalo nel campo Github del form | 4. Clicca il pulsante launch | 5. Aspetta un momento intanto che il notebook viene costruito | 6. Fatto: dovresti essere indirizzato al notebook | 7. Divertiti!"
   ]
  },
  {
   "cell_type": "markdown",
   "metadata": {},
   "source": [
    "___\n",
    "\n",
    "## That's all for now, see you in the next Notebook\n",
    "\n",
    "Go to the home page by clicking on the Jupyter logo.\n",
    "![Click the logo](https://github.com/giaxxi/pyetro/blob/master/assets/images/click-the-logo.jpg?raw=true \"Click the logo\")\n",
    "\n",
    "---\n",
    "🇮🇹 **È tutto per ora, ci vediamo nel prossimo Notebook** | Clicca il logo di Jupiter per tornale alla Home page"
   ]
  }
 ],
 "metadata": {
  "kernelspec": {
   "display_name": "Python 3",
   "language": "python",
   "name": "python3"
  },
  "language_info": {
   "codemirror_mode": {
    "name": "ipython",
    "version": 3
   },
   "file_extension": ".py",
   "mimetype": "text/x-python",
   "name": "python",
   "nbconvert_exporter": "python",
   "pygments_lexer": "ipython3",
   "version": "3.7.7"
  }
 },
 "nbformat": 4,
 "nbformat_minor": 4
}
