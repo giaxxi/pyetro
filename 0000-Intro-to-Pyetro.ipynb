{
 "cells": [
  {
   "cell_type": "markdown",
   "metadata": {},
   "source": [
    "# Intro to Pyetro\n",
    "\n",
    "This repo is my try to teach the basics of coding in Python to my daughters and friends.\n",
    "\n",
    "I'm learning on the go.\n",
    "\n",
    "-- Gianni"
   ]
  },
  {
   "cell_type": "markdown",
   "metadata": {},
   "source": [
    "# How to use this repo\n",
    "\n",
    "I'm using [Jupyter Notebok](https://jupyter.org) for this project\n",
    "\n",
    "You can use any notebook in this repo freely in one of this way:\n",
    "\n",
    "   - Just clone to your computer\n",
    "   - [Clone to Binder](https://mybinder.org) \n",
    "   - [Clone to Google Colab](http://colab.research.google.com)\n",
    "   - Clone to [Kaggle](https://www.kaggle.com/)\n",
    "   - Clone to any on-line jupyter notebook service you like most\n",
    "   \n",
    "\n",
    "## Binder example\n",
    "\n",
    "   - Visit the site\n",
    "   - Paste this URL https://github.com/giaxxi/pyetro.git on the GitHub field, then launch 🚀\n",
    " \n",
    "**That easy.**\n",
    "\n",
    "![Build and lauch repo on Binder](https://github.com/giaxxi/pyetro/blob/master/assets/images/binder-lauch-repo.jpg?raw=true \"Build and lauch repo on Binder\")"
   ]
  },
  {
   "cell_type": "markdown",
   "metadata": {},
   "source": [
    "# Hello world!\n",
    "\n",
    "As per the tradiotion, this is the **Hello World!** program"
   ]
  },
  {
   "cell_type": "code",
   "execution_count": 1,
   "metadata": {},
   "outputs": [
    {
     "name": "stdout",
     "output_type": "stream",
     "text": [
      "Hello World!\n"
     ]
    }
   ],
   "source": [
    "print(\"Hello World!\")"
   ]
  },
  {
   "cell_type": "markdown",
   "metadata": {},
   "source": [
    "# Thanks\n",
    "\n",
    "Hope I can stick with this goal.\n",
    "\n",
    "Hope you enjoy this."
   ]
  },
  {
   "cell_type": "code",
   "execution_count": null,
   "metadata": {},
   "outputs": [],
   "source": []
  }
 ],
 "metadata": {
  "kernelspec": {
   "display_name": "Python 3",
   "language": "python",
   "name": "python3"
  },
  "language_info": {
   "codemirror_mode": {
    "name": "ipython",
    "version": 3
   },
   "file_extension": ".py",
   "mimetype": "text/x-python",
   "name": "python",
   "nbconvert_exporter": "python",
   "pygments_lexer": "ipython3",
   "version": "3.7.7"
  }
 },
 "nbformat": 4,
 "nbformat_minor": 4
}
