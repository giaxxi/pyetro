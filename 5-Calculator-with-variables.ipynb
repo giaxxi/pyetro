{
 "cells": [
  {
   "cell_type": "markdown",
   "metadata": {},
   "source": [
    "#  5. Calculator with variables\n",
    "\n",
    "We have learned that we can use Python as a calculator and saw some basic math operations.\n",
    "\n",
    "We also have seen how memory and variable work.\n",
    "\n",
    "Let's put all together to start using those building blocks in a more useful way.\n",
    "\n",
    "---\n",
    "🇮🇹 __Calcolatrice con le variabili__ | Abbiamo imparato che possiamo usare Python come una calcolatrice e visto alcune operazioni matematiche di base. | Abbiamo anche visto come la memoria e le variabili funzionano. | Mettiamo insieme tutto e iniziamo a usare questi mattoncini un un modo più utile. "
   ]
  },
  {
   "cell_type": "markdown",
   "metadata": {},
   "source": [
    "## 5.2. Variables and expressions\n",
    "You know what an expression is from your math classes.\n",
    "\n",
    "Here is a simple one:\n",
    "\n",
    "$5 \\times 2$\n",
    "\n",
    "In Python, it is possible to assign the result of an expression to a variable.\n",
    "\n",
    "So, the object returned by the expression is put in the magical box.\n",
    "\n",
    "___\n",
    "🇮🇹 __Variabili ed espressioni__ | Tu sai cos'è unespressione dalle lezioni di matematica. | Eccone una semplice: $5 \\times 2$ | In Python è possibile assegnare il risultato di un'espressione a una variabile. | Così l'oggetto ritornato dall'espressione viene messo nella scatola magica |"
   ]
  },
  {
   "cell_type": "code",
   "execution_count": null,
   "metadata": {},
   "outputs": [],
   "source": [
    "# run the cell: assign to a variable the result of an expression\n",
    "# esegui questa cella: assegna a una variabile il risultato di un'espressione\n",
    "\n",
    "var_1 = 5 * 2\n",
    "print(var_1)"
   ]
  },
  {
   "cell_type": "markdown",
   "metadata": {},
   "source": [
    "In Python, you can even use the variables in an expression.\n",
    "\n",
    "Try the next cell.\n",
    "\n",
    "___\n",
    "🇮🇹 In Python puoi perfino sare le variabili in un'espressione. | Prova la seguente cella."
   ]
  },
  {
   "cell_type": "code",
   "execution_count": null,
   "metadata": {},
   "outputs": [],
   "source": [
    "# run the cell: use variables in an expression\n",
    "# esegui questa cella: usa variabili in un'espressione\n",
    "\n",
    "var_1 = 5\n",
    "var_2 = 20\n",
    "var_1 * var_2 + var_2"
   ]
  },
  {
   "cell_type": "markdown",
   "metadata": {},
   "source": [
    "As a consequence, you can assign to a variable the object resulting from an expression that uses variables.\n",
    "\n",
    "___\n",
    "🇮🇹 Come conseguenza puoi assegnare a una variabile l'oggetto risultante da un'espressione che usa delle variabili."
   ]
  },
  {
   "cell_type": "code",
   "execution_count": null,
   "metadata": {},
   "outputs": [],
   "source": [
    "var_1 = 10\n",
    "var_2 = 20\n",
    "var_3 = var_1 + var_2\n",
    "print(var_3)"
   ]
  },
  {
   "cell_type": "markdown",
   "metadata": {},
   "source": [
    "#### ⚠️ Remember\n",
    "\n",
    "__The objects related to the variables are used to calculate the expression__.\n",
    "\n",
    "It is possible to reassign an object to a variable starting from the current object stored in the variable itself.\n",
    "\n",
    "___\n",
    "🇮🇹 __Ricorda__ | Sono gli oggetti collegati alle variabili che vengono usati per calcolare l'espressione. | Infatti si può riassegnare un oggetto alla medesima variabile partendo dall'oggetto contenuto inizialmente nella medesima variabile."
   ]
  },
  {
   "cell_type": "code",
   "execution_count": null,
   "metadata": {},
   "outputs": [],
   "source": [
    "var_1 = 10\n",
    "var_1 = var_1 + 1\n",
    "\n",
    "print(var_1)"
   ]
  },
  {
   "cell_type": "markdown",
   "metadata": {},
   "source": [
    "## 5.2. Some examples with easy geometry problem\n",
    "\n",
    "For the next examples variables cames in handy, let's see how to use it to solve problems:\n",
    "\n",
    "   1. First, we declare the variables, the sides in this case;\n",
    "   2. Use the variables to calculate the required magnitudes.\n",
    "\n",
    "🇮🇹 __Alcuni esempi con facili problema di geometria__ | Per i prossimi esempi le variabili tornanp utili, vediamo come usarle per risolvere i problemi: | 1. Per prima cosa, dichiariamo le variabili, i lati in questo caso; | 2. Utilizzare le variabili per calcolare le grandezze richieste."
   ]
  },
  {
   "cell_type": "markdown",
   "metadata": {},
   "source": [
    "### 5.2.1. A rectangle\n",
    "\n",
    ">__Problem__\n",
    ">\n",
    "> We have a rectangle of sides 10 and 25.\n",
    ">\n",
    "> Calculate its area and the length of the perimeter.\n",
    "\n",
    "---\n",
    "🇮🇹 __Un rettangolo__ | Abbiamo un rettangolo di lati 10 e 25. | Calcolare l'area e la lunghezza del perimetro."
   ]
  },
  {
   "cell_type": "code",
   "execution_count": null,
   "metadata": {},
   "outputs": [],
   "source": [
    "# Problem data\n",
    "# Dati del problema\n",
    "\n",
    "side_1 = 10\n",
    "side_2 = 25"
   ]
  },
  {
   "cell_type": "code",
   "execution_count": null,
   "metadata": {},
   "outputs": [],
   "source": [
    "area = side_1 * side_2"
   ]
  },
  {
   "cell_type": "code",
   "execution_count": null,
   "metadata": {},
   "outputs": [],
   "source": [
    "perimeter = (side_1 + side_2) * 2"
   ]
  },
  {
   "cell_type": "code",
   "execution_count": null,
   "metadata": {},
   "outputs": [],
   "source": [
    "print(area)\n",
    "print(perimeter)"
   ]
  },
  {
   "cell_type": "markdown",
   "metadata": {},
   "source": [
    "### 5.2.2. The pythagorean theorem\n",
    "\n",
    "__Enunciation__<br>\n",
    "The square of the length of the hypotenuse (`c`) of a right triangle equals the sum of the squares of the lengths of the other two sides (`a` and `b`).\n",
    "\n",
    "\\begin{equation*}\n",
    "a^2 + b^2 =  c^2 (*)\n",
    "\\end{equation*}\n",
    "\n",
    "Useful formulas derived from (*). \n",
    "\n",
    "\\begin{equation*}\n",
    "c^2 = \\sqrt {a^2 + b^2} = (a^2 + b^2)^{1/2}\n",
    "\\end{equation*}\n",
    "\n",
    "\\begin{equation*}\n",
    "b^2  = \\sqrt {c^2 - a^2} = (c^2 - a^2)^{1/2}\n",
    "\\end{equation*}\n",
    "\n",
    "> __Problem__\n",
    ">\n",
    "> Given a square triangle having the hypotenuse of length 29 and a side of 20,\n",
    ">\n",
    "> determinate the perimeter and the area.\n",
    "\n",
    "---\n",
    "🇮🇹 __Teorema di pitagora__ | __Enunciato__ L'area del quadrato costruito sull'ipotenusa di un triangolo rettangolo, equivale alla somma dei quadrati costruiti sui cateti. | Formule utili derivate da (*) | __Problema__ Dato un triangolo con l'ipotenusa lunga 29 e un lato di 20, si determini il perimetro e l'area."
   ]
  },
  {
   "cell_type": "code",
   "execution_count": null,
   "metadata": {},
   "outputs": [],
   "source": [
    "# Problem data\n",
    "# Dati del problema\n",
    "\n",
    "c = 29\n",
    "a = 20"
   ]
  },
  {
   "cell_type": "code",
   "execution_count": null,
   "metadata": {},
   "outputs": [],
   "source": [
    "# Calculate the missing side with the derived formula (exponent 1/2 is square root)\n",
    "# Calcolare il lato mancante con la formula invesa (l'esponente 1/2 corrisponde alla radice quadrata)\n",
    "\n",
    "b = (c**2 - a**2)**(1/2)\n",
    "print(b)"
   ]
  },
  {
   "cell_type": "code",
   "execution_count": null,
   "metadata": {},
   "outputs": [],
   "source": [
    "# Calculate area and perimeter, knowing the b side\n",
    "# Calcolare area e perimetro, conoscendo il lato b\n",
    "\n",
    "perimeter = a + b + c\n",
    "area = (a * b)**2 / 2\n",
    "\n",
    "print(perimeter)\n",
    "print(area)"
   ]
  },
  {
   "cell_type": "markdown",
   "metadata": {},
   "source": [
    "#### ⚠️ Note\n",
    "Remember that the fractional exponent `1/2` is equivalent to the square root.\n",
    "\n",
    "__It's just math, not Python in this case__\n",
    "\n",
    "___\n",
    "🇮🇹 __Nota__ | Ricorda che usare l'esponente frazionario `1/2` equivale alla radice quadrata. | È matematica, non Python in questo caso."
   ]
  },
  {
   "cell_type": "markdown",
   "metadata": {},
   "source": [
    "## 5.3. Your turn\n",
    "\n",
    "Try to solve this problem using the next cells.\n",
    "\n",
    "> __Problem__\n",
    ">\n",
    "> Given a square of side 12,\n",
    ">\n",
    "> calculate the perimeter and the area.\n",
    ">\n",
    "> Optional: calculate the area of a second square having the diagonal of the first square as side.\n",
    "\n",
    "___\n",
    "🇮🇹 __Il tuo turno__ | Prova a risolvere questo problema usando le prossime celle. | __Problema__ | Dato un quadrato di lato 12, calcolarne l'area e il perimetro. | Optional: calcolare l'area di un secondo quadrato avente come lato la diagonale del primo."
   ]
  },
  {
   "cell_type": "code",
   "execution_count": null,
   "metadata": {},
   "outputs": [],
   "source": [
    "# Try yourself\n",
    "# Provaci tu\n",
    "\n"
   ]
  },
  {
   "cell_type": "code",
   "execution_count": null,
   "metadata": {},
   "outputs": [],
   "source": []
  },
  {
   "cell_type": "markdown",
   "metadata": {},
   "source": [
    "---\n",
    "## Playground\n",
    "Use the following cell (or add more as you like) for playing around and testing your code.\n",
    "\n",
    "---\n",
    "🇮🇹 __Parco giochi__ | Use la seguente cella (o aggiungine altre) per giocare e provare il tuo codice."
   ]
  },
  {
   "cell_type": "code",
   "execution_count": null,
   "metadata": {},
   "outputs": [],
   "source": []
  },
  {
   "cell_type": "markdown",
   "metadata": {},
   "source": [
    "___\n",
    "\n",
    "## That's all for now, see you in the next Notebook\n",
    "\n",
    "Go to the home page by clicking on the Jupyter logo.\n",
    "![Click the logo](https://github.com/giaxxi/pyetro/blob/master/assets/images/click-the-logo.jpg?raw=true \"Click the logo\")\n",
    "\n",
    "---\n",
    "🇮🇹 **È tutto per ora, ci vediamo nel prossimo Notebook** | Clicca il logo di Jupiter per tornale alla Home page"
   ]
  }
 ],
 "metadata": {
  "kernelspec": {
   "display_name": "Python 3",
   "language": "python",
   "name": "python3"
  },
  "language_info": {
   "codemirror_mode": {
    "name": "ipython",
    "version": 3
   },
   "file_extension": ".py",
   "mimetype": "text/x-python",
   "name": "python",
   "nbconvert_exporter": "python",
   "pygments_lexer": "ipython3",
   "version": "3.7.7"
  }
 },
 "nbformat": 4,
 "nbformat_minor": 4
}
