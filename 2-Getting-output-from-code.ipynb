{
 "cells": [
  {
   "cell_type": "markdown",
   "metadata": {},
   "source": [
    "#  2. Getting output from code\n",
    "\n",
    "It is important to understand how to get an output from `code` cells.\n",
    "\n",
    "Showing the output is a way for checking what the execution of code produced.\n",
    "\n",
    "Errors included! 🐛\n",
    "\n",
    "__Play with code cells!__:\n",
    "    - Run the code.\n",
    "    - Change the content\n",
    "    - Run again\n",
    "    - Check what happen!\n",
    "\n",
    "---\n",
    "🇮🇹 __Ottenere un output dal `codice`__ | È importante capire come ottenere un esito (output) celle di `codice`. | Mostrare un output è un modo per verificare cosa ha prodotto l'esecuzione del codice. | Inclusi gli errori! 🐛 | Gioca con le celle di `codice`. Esegui. Cambiane il contenuto. Esegui ancora. Vedi cosa succede."
   ]
  },
  {
   "cell_type": "markdown",
   "metadata": {},
   "source": [
    "## 2.1. No output: comments in Python\n",
    "\n",
    "Let's begin with the stranger output: no output at all. 😁\n",
    "\n",
    "Comments are just some useful read notes which the computer doesn't execute.\n",
    "\n",
    "In `code` cells use the hash character `#` at the beginning of a comment line.\n",
    "\n",
    "🖐 __Don't forget to run the code cells!__\n",
    "\n",
    "---\n",
    "🇮🇹 __Nessun output: commenti in Python__ | Cominciamo con il più strano degli output: niente output. | I commenti sono note utili a chi legge ma che non vengono eseguite dal computer. | Nelle celle di `codice` usa il carattere cancelletto `#` all'inizio di una riga di commento. | __Non dimenticarti di eseguire le celle di codice!__"
   ]
  },
  {
   "cell_type": "code",
   "execution_count": null,
   "metadata": {},
   "outputs": [],
   "source": [
    "# All of those are comment lines, run the cell and you won't get any output\n",
    "# Tutte queste sono una righe di commento, esegui questa cella e non vedrai alcun output\n",
    "# 2 + 2"
   ]
  },
  {
   "cell_type": "markdown",
   "metadata": {},
   "source": [
    "## 2.2. Output: the value by the last line\n",
    "\n",
    "If the last line of the `code` cell has a value (returns a value 😎), that value is showed as output.\n",
    "\n",
    "The value is shown unless it is `None` or the line ends with a semicolon `;`.\n",
    "\n",
    "The output can be actually considered the value of the cell.\n",
    "\n",
    "You will see the text __`Out[ ]`__ on the left.\n",
    "\n",
    "🖐 __Don't forget to run the code cells!__\n",
    "\n",
    "---\n",
    "🇮🇹 __Output: il valore dall'ultima riga__ | Se l'ultima linea di `codice` ha un valore (ritorna un valore), esso viene mostrato come output. | Il valore viene mostrato a meno che non sia `None` (Nulla) o la riga termini con un punto e virgola `;` | Il output può ben essere considerato come il valore assunto della cella. | Vedrai questo testo alla sinistra `Out[ ]` | __Non dimenticarti di eseguire le celle di codice!__"
   ]
  },
  {
   "cell_type": "code",
   "execution_count": null,
   "metadata": {
    "scrolled": true
   },
   "outputs": [],
   "source": [
    "# Example 1.1 - only the last line value is the output\n",
    "# Esempio 1.1 - solo il valore dell'ultima riga è output\n",
    "2 + 2\n",
    "3 + 3"
   ]
  },
  {
   "cell_type": "code",
   "execution_count": null,
   "metadata": {},
   "outputs": [],
   "source": [
    "# Example 1.2 - no output because last line ends with semicolon\n",
    "# Esempio 1.2 - nessun output perché la riga termina con punto e virgola\n",
    "2 + 2\n",
    "3 + 3;"
   ]
  },
  {
   "cell_type": "code",
   "execution_count": null,
   "metadata": {},
   "outputs": [],
   "source": [
    "# Example 1.3 - no output if last line value is None\n",
    "# Esempio 1.3 - nessun output perché il valore dell'ultima riga è None\n",
    "2 + 2\n",
    "None"
   ]
  },
  {
   "cell_type": "code",
   "execution_count": null,
   "metadata": {},
   "outputs": [],
   "source": [
    "# Example 1.4\n",
    "# Esempio 1.4\n",
    "1 + 1\n",
    "2 + 2\n",
    "# This is not a line of code, the last line of code is the line 2 + 2\n",
    "# Questa non è una riga d codice, l'ultima riga è 2 + 2"
   ]
  },
  {
   "cell_type": "code",
   "execution_count": null,
   "metadata": {},
   "outputs": [],
   "source": [
    "# Example 1.5 - an example of output in case of ERROR: line ends with +\n",
    "# Esempio 1.5 - un esempio di output in caso di ERROR: la riga termina con +\n",
    "1 + 1\n",
    "2 +"
   ]
  },
  {
   "cell_type": "markdown",
   "metadata": {},
   "source": [
    "## 2.3. The `print()` function\n",
    "\n",
    "The `print()` is a function which just prints 😅 the value between the brackets.\n",
    "\n",
    "Unlike _last line value output_ it `print()` prints from whatever line it is placed.\n",
    "\n",
    "The value returned by `print()` is `None`, so no output as **`Out[ ]`** is shown.\n",
    "\n",
    "🖐 **Don't forget to run the code cells!**\n",
    "\n",
    "---\n",
    "🇮🇹 __La funzione `print()`__ | `print()` è una funzione che __Stampa il valore fra le parentesi__ | Diversamente del _output del valore dall'ultima riga_, la funzione `print()` stampa da qualunque riga venga posizionata. | Il valore ritornato da `print()` è `None`, quindi nessun output come `Out[ ]` viene mostrato. | Non dimenticarti di eseguire le celle di codice!"
   ]
  },
  {
   "cell_type": "code",
   "execution_count": null,
   "metadata": {},
   "outputs": [],
   "source": [
    "# Example 2.1 print()\n",
    "# Esempio 2.1 print()\n",
    "\n",
    "print('Hello world!')\n",
    "print(2 + 2)"
   ]
  },
  {
   "cell_type": "code",
   "execution_count": null,
   "metadata": {},
   "outputs": [],
   "source": [
    "# Example 2.2 print() and last line output\n",
    "# Esempio 2.2 print() e output dall'ultima riga\n",
    "\n",
    "print('Hello world!')\n",
    "print(2 + 2)\n",
    "4 + 4"
   ]
  },
  {
   "cell_type": "code",
   "execution_count": null,
   "metadata": {},
   "outputs": [],
   "source": [
    "# Example 2.3 print returns None, so no output - nothing between braces, so no print\n",
    "# Esempio 2.3 print ritorna None, quindi nessun output - nulla fra parentesi, quindi nulla da stampare\n",
    "4 + 4\n",
    "print()"
   ]
  },
  {
   "cell_type": "markdown",
   "metadata": {},
   "source": [
    "___\n",
    "\n",
    "## That's all for now, see you in the next Notebook\n",
    "\n",
    "Go to home page clicking on the Jupyter logo\n",
    "![Click the logo](https://github.com/giaxxi/pyetro/blob/master/assets/images/click-the-logo.jpg?raw=true \"Click the logo\")\n",
    "\n",
    "---\n",
    "🇮🇹 **È tutto per ora, ci vediamo nel prossimo Notebook** | Clicca il logo di Jupiter per tornale alla Home page"
   ]
  },
  {
   "cell_type": "code",
   "execution_count": null,
   "metadata": {},
   "outputs": [],
   "source": []
  }
 ],
 "metadata": {
  "kernelspec": {
   "display_name": "Python 3",
   "language": "python",
   "name": "python3"
  },
  "language_info": {
   "codemirror_mode": {
    "name": "ipython",
    "version": 3
   },
   "file_extension": ".py",
   "mimetype": "text/x-python",
   "name": "python",
   "nbconvert_exporter": "python",
   "pygments_lexer": "ipython3",
   "version": "3.7.7"
  }
 },
 "nbformat": 4,
 "nbformat_minor": 4
}
