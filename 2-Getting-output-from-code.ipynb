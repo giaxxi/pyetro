{
 "cells": [
  {
   "cell_type": "markdown",
   "metadata": {},
   "source": [
    "#  <font color='darkgray'>2.</font> <font color='black'>Getting output from `code`</font>\n",
    "\n",
    "Before we go ahead, it is important to understand how to get an output from the `code` cells.\n",
    "\n",
    "Showing the output is a way for checking  what the execution of code produced.\n",
    "\n",
    "Errors included! 🐛\n",
    "\n",
    "### <font color='indianred'>Play with code cells!</font>\n",
    "Run the code. Change the content, run again and check what happen!\n",
    "\n",
    "---\n",
    "🇮🇹<small>**Ottenere un output dal `codice`**</small> | <small style=\"color:gray\">Prima di iniziare, è importante capire come ottenere un esito (output) celle di `codice`. | Mostrare un output è un modo per verificare cosa ha prodotto l'esecuzione del codice. | Inclusi gli errori! 🐛 | <font color='indianred'>Gioca con le celle di `codice`. Esegui. Cambiane il contenuto, esegui ancora e vedi cosa succede.</font></small>"
   ]
  },
  {
   "cell_type": "markdown",
   "metadata": {},
   "source": [
    "## <font color='darkgray'>2.1.</font><font color='royalblue'> No output: comments in Python</font>\n",
    "\n",
    "Let's begin with a strange output: no output at all. 😁\n",
    "\n",
    "Just some useful notes.\n",
    "\n",
    "In `code` cells use the hash character `#` at the beginning of a comment line.\n",
    "\n",
    "🖐<font color='indianred'>**Don't forget to run the code cells!**</font>\n",
    "\n",
    "---\n",
    "🇮🇹<small>**Nessun output: commenti in Python**</small> | <small style=\"color:gray\">Cominciamo con uno strano output: niente output. 😁 | Solo alcune note utili. | Nelle celle di `codice` usa il carattere cancelletto `#` all'inizio di una riga di commento. | <font color='indianred'>Non dimenticarti di eseguire le celle di codice!</font></small>"
   ]
  },
  {
   "cell_type": "code",
   "execution_count": null,
   "metadata": {},
   "outputs": [],
   "source": [
    "# These are comment lines, if you run the cell you won't get any output\n",
    "# Queste sono una righe di commento, se esegui la cella non vedrai alcun esito\n",
    "# 2 + 2"
   ]
  },
  {
   "cell_type": "markdown",
   "metadata": {},
   "source": [
    "## <font color='darkgray'>2.2.</font> <font color='royalblue'>Output: last line value returned</font>\n",
    "\n",
    "If the last line of the `code` cell has (returns 😎) a value, that value is showed as output.\n",
    "\n",
    "The value is shown unless the value is `None` (we'll meet Mr. None later on) or the line ends with `;`.\n",
    "\n",
    "The output can be actually considered the value of the cell and you will see the text **`Out[n]`** on the left.\n",
    "\n",
    "🖐<font color='indianred'>**Don't forget to run the code cells!**</font>\n",
    "\n",
    "---\n",
    "🇮🇹<small>**Output: valore ritornato dall'ultima riga**</small> | <small style=\"color:gray\">Se l'ultima linea di `codice` ha (ritorna 😎) un valore, tale valore viene mostrato come output. | Il valore viene mostrato a meno che il valore sia `None` (incontreremo il signor None più avanti) o la riga termini con `;` | Il output può ben essere considerato come il valore assunto della cella e vedrai questo testo alla sinistra `Out[n]` | <font color='indianred'>Non dimenticarti di eseguire le celle di codice!</font></small>"
   ]
  },
  {
   "cell_type": "code",
   "execution_count": null,
   "metadata": {
    "scrolled": true
   },
   "outputs": [],
   "source": [
    "# Example 2.2.1: output the last line value\n",
    "# Esempio 2.2.1: output del valore dell'ultima linea\n",
    "10\n",
    "20\n",
    "30"
   ]
  },
  {
   "cell_type": "code",
   "execution_count": null,
   "metadata": {},
   "outputs": [],
   "source": [
    "# Example 2.2.2: output the last line value\n",
    "# Esempio 2.2.2: output del valore dell'ultima linea\n",
    "2 + 2\n",
    "3 + 3"
   ]
  },
  {
   "cell_type": "code",
   "execution_count": null,
   "metadata": {},
   "outputs": [],
   "source": [
    "# Example 2.2.3: no output if line ends with ;\n",
    "# Esempio 2.2.3: nessun output se la riga termina con ;\n",
    "2 + 2\n",
    "3 + 3;"
   ]
  },
  {
   "cell_type": "code",
   "execution_count": null,
   "metadata": {},
   "outputs": [],
   "source": [
    "# Example 2.2.4: no output if last line value is None\n",
    "# Esempio 2.2.4: nessun output il valore dell'ultima riga è None\n",
    "2 + 2\n",
    "None"
   ]
  },
  {
   "cell_type": "code",
   "execution_count": null,
   "metadata": {},
   "outputs": [],
   "source": [
    "# Example 2.2.5: the comment at the end is not a line of code\n",
    "# Esempio 2.2.5: l'ultimo commento non è una riga di codice\n",
    "1 + 1\n",
    "2 + 2\n",
    "# This is not a line of code, the last line of code is the line 2 + 2\n",
    "# Questa non è una riga d codice, l'ultima riga è 2 + 2"
   ]
  },
  {
   "cell_type": "code",
   "execution_count": null,
   "metadata": {},
   "outputs": [],
   "source": [
    "# Example 2.2.6: if any ERROR happen, execution stops and error message is shown\n",
    "# Esempio 2.2.6: in caso di ERRORE, ll'esecuzione si ferma e viene mostrato un messaggio di erore\n",
    "1 + 1\n",
    "2 +"
   ]
  },
  {
   "cell_type": "markdown",
   "metadata": {},
   "source": [
    "## <font color='darkgray'>2.3.</font> <font color='royalblue'>The `print()` function (just a first taste) </font>\n",
    "\n",
    "Just a rapid mention to the `print()` function, just to know the most basic use case.\n",
    "\n",
    "It just print (of course 😁) the value you put between the brackets.\n",
    "\n",
    "Unlike _last line value output_ it `print()` prints from whatever line it is placed.\n",
    "\n",
    "The value returned by `print()` is `None`, so no output as **`Out[n]`** is shown.\n",
    "\n",
    "🖐<font color='indianred'>**Don't forget to run the code cells!**</font>\n",
    "\n",
    "---\n",
    "🇮🇹<small>**La funzione `print()` (solo un primo assaggio)**</small> | <small style=\"color:gray\">Una rapida menzione alla funzione `print()`, solo per conoscerne il caso di uso più basilare. | Diversamente dal <i>output del valore dell'ultima riga</i>, la funzione stampa da qualunque riga venga posizionata. | Il valore ritornato da `print()` è `None`, quindi nessun output come `Out[n]` viene mostrato. | <font color='indianred'>Non dimenticarti di eseguire le celle di codice!</font></small>"
   ]
  },
  {
   "cell_type": "code",
   "execution_count": null,
   "metadata": {},
   "outputs": [],
   "source": [
    "# Example 2.3.1 print()\n",
    "# Esempio 2.3.1 print()\n",
    "\n",
    "print('Hello world!')\n",
    "print(2 + 2)"
   ]
  },
  {
   "cell_type": "code",
   "execution_count": null,
   "metadata": {},
   "outputs": [],
   "source": [
    "# Example 2.3.2 print() and last line output\n",
    "# Esempio 2.3.2 print() e output dall'ultima riga\n",
    "\n",
    "print('Hello world!')\n",
    "print(2 + 2)\n",
    "4 + 4"
   ]
  },
  {
   "cell_type": "code",
   "execution_count": null,
   "metadata": {},
   "outputs": [],
   "source": [
    "# Example 2.3.3 print returns None\n",
    "# Esempio 2.3.3 print ritorna None\n",
    "4 + 4\n",
    "print()"
   ]
  },
  {
   "cell_type": "markdown",
   "metadata": {},
   "source": [
    "## <font color='sienna'>That's all for now, see you in the next Notebook</font>\n",
    "\n",
    "\n",
    "---\n",
    "🇮🇹**È tutto per ora, ci vediamo nel prossimo Notebook**"
   ]
  },
  {
   "cell_type": "code",
   "execution_count": null,
   "metadata": {},
   "outputs": [],
   "source": []
  }
 ],
 "metadata": {
  "kernelspec": {
   "display_name": "Python 3",
   "language": "python",
   "name": "python3"
  },
  "language_info": {
   "codemirror_mode": {
    "name": "ipython",
    "version": 3
   },
   "file_extension": ".py",
   "mimetype": "text/x-python",
   "name": "python",
   "nbconvert_exporter": "python",
   "pygments_lexer": "ipython3",
   "version": "3.7.7"
  }
 },
 "nbformat": 4,
 "nbformat_minor": 4
}
