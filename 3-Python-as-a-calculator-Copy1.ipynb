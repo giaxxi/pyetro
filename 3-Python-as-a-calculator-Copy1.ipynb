{
 "cells": [
  {
   "cell_type": "markdown",
   "metadata": {},
   "source": [
    "#  3. Python as a calculator\n",
    "\n",
    "Try out math operations is a friendly way to start becoming familiar with coding.\n",
    "\n",
    "__Run the code in the following cells__, edit and run again as you like to discover how it works.\n",
    "\n",
    "__Notice:__ Unlike in your math class Python uses only round brackets in expressions.\n",
    "\n",
    "---\n",
    "🇮🇹 __Python come una calcolatrice__ | Provare con le operazioni matematiche è un modo facile per prendere confidenza col codice. | __Esegui il codice nelle celle seguenti__, modificalo ed eseguilo di nuovo come per scoprire come funziona. | __Attenzione:__ Diversamente dalla matematica che hai imparato, Python usa solo parentesi tonde nelle espressioni."
   ]
  },
  {
   "cell_type": "markdown",
   "metadata": {},
   "source": [
    "## 3.1. Addition\n",
    "\n",
    "As you learned at school, `+` is the symbol for the sum, Python uses the same symbol.\n",
    "\n",
    "---\n",
    "🇮🇹 __Addizione__ | Come hai imparato a scuola, `+` è il simbolo per l'addizione, Python usa lo stesso simbolo."
   ]
  },
  {
   "cell_type": "code",
   "execution_count": null,
   "metadata": {},
   "outputs": [],
   "source": [
    "2 + 2"
   ]
  },
  {
   "cell_type": "code",
   "execution_count": null,
   "metadata": {},
   "outputs": [],
   "source": [
    "1 + 2 + 3"
   ]
  },
  {
   "cell_type": "code",
   "execution_count": null,
   "metadata": {},
   "outputs": [],
   "source": [
    "(2 + 2) + (3 + 3)"
   ]
  },
  {
   "cell_type": "markdown",
   "metadata": {},
   "source": [
    "## 3.2 Subtraction\n",
    "\n",
    "Also, Python uses `-` for subtractions.\n",
    "\n",
    "---\n",
    "🇮🇹 __Sottrazione__ | Anche Python usa il `-` per le sottrazioni."
   ]
  },
  {
   "cell_type": "code",
   "execution_count": null,
   "metadata": {},
   "outputs": [],
   "source": [
    "10 - 5"
   ]
  },
  {
   "cell_type": "code",
   "execution_count": null,
   "metadata": {},
   "outputs": [],
   "source": [
    "# Negative numbers: less than zero, starts the minus sign, as the result of this operation\n",
    "# Numeri negativi: minori di zero, iniziano con il segno meno, come nel risultato di questa operazione\n",
    "\n",
    "5 - 10"
   ]
  },
  {
   "cell_type": "code",
   "execution_count": null,
   "metadata": {},
   "outputs": [],
   "source": [
    "10 - (8 - 3)"
   ]
  },
  {
   "cell_type": "markdown",
   "metadata": {},
   "source": [
    "## 3.3 Mulptiplication\n",
    "\n",
    "In Python, the symbol for multiplication operator is `*`\n",
    "\n",
    "---\n",
    "🇮🇹 __Moltiplicazione__ | In Python il simbolo usato per l'operatore di moltiplicazione è `*`"
   ]
  },
  {
   "cell_type": "code",
   "execution_count": null,
   "metadata": {},
   "outputs": [],
   "source": [
    "2 * 2"
   ]
  },
  {
   "cell_type": "code",
   "execution_count": null,
   "metadata": {},
   "outputs": [],
   "source": [
    "4 * (3 * 2)"
   ]
  },
  {
   "cell_type": "code",
   "execution_count": null,
   "metadata": {},
   "outputs": [],
   "source": [
    "# Negative numbers\n",
    "# Numeri negativi\n",
    "\n",
    "-3 * 2"
   ]
  },
  {
   "cell_type": "markdown",
   "metadata": {},
   "source": [
    "## 3.4 Division\n",
    "\n",
    "In Python, the symbol for division operator is `/`\n",
    "\n",
    "---\n",
    "🇮🇹 __Divisone__ | In Python il simbolo usato per l'operatore di divisione è `/`"
   ]
  },
  {
   "cell_type": "code",
   "execution_count": null,
   "metadata": {},
   "outputs": [],
   "source": [
    "10 / 2"
   ]
  },
  {
   "cell_type": "code",
   "execution_count": null,
   "metadata": {},
   "outputs": [],
   "source": [
    "10 / 3"
   ]
  },
  {
   "cell_type": "code",
   "execution_count": null,
   "metadata": {},
   "outputs": [],
   "source": [
    "10 / (4 / 2)"
   ]
  },
  {
   "cell_type": "code",
   "execution_count": null,
   "metadata": {},
   "outputs": [],
   "source": [
    "# Division by zero raise an error: ZeroDivisionError\n",
    "# La divisione per zero genera un errore: ZeroDivisionError\n",
    "\n",
    "10 / 0"
   ]
  },
  {
   "cell_type": "markdown",
   "metadata": {},
   "source": [
    "## 3.5 Floor division and remainder\n",
    "\n",
    "In Python, the symbol for floor division operator is `//`.\n",
    "\n",
    "The operator for the remainder is `%`.\n",
    "\n",
    "What's a floor division? Follow the next cell.\n",
    "\n",
    "---\n",
    "🇮🇹 __Divisone intera e resto__ | In Python il simbolo usato per l'operatore di divisione intera è `//` | L'operatore per il resto è `%` | Cos'è la divisione intera? Segui la prossima cella."
   ]
  },
  {
   "cell_type": "code",
   "execution_count": null,
   "metadata": {},
   "outputs": [],
   "source": [
    "# Floor division\n",
    "# Divisione intera\n",
    "\n",
    "14 // 5"
   ]
  },
  {
   "cell_type": "code",
   "execution_count": null,
   "metadata": {},
   "outputs": [],
   "source": [
    "# Reminder: 14 // 5 = 2 with remainder 4\n",
    "# Resto: 14 // 5 = 2 con resto 4\n",
    "\n",
    "14 % 5"
   ]
  },
  {
   "cell_type": "code",
   "execution_count": null,
   "metadata": {},
   "outputs": [],
   "source": [
    "# 😸 Forty-four cats, six in a row with the remainder of two; six by seven forty-two, add two is forty-four\n",
    "# 😸 Quarantaquattro gatti in fila per sei col resto di due; sei per sette quarantdue, più due quarantaquattro\n",
    "\n",
    "print(44 // 6)\n",
    "print(44 % 6)"
   ]
  },
  {
   "cell_type": "markdown",
   "metadata": {},
   "source": [
    "## 3.6 Power\n",
    "\n",
    "In Python, the symbol for power operator is `**`, double asterisk.\n",
    "\n",
    "---\n",
    "🇮🇹 __Potenza__ | In Python il simbolo usato per l'operatore di potenza è `**`, doppio asterisco."
   ]
  },
  {
   "cell_type": "code",
   "execution_count": null,
   "metadata": {},
   "outputs": [],
   "source": [
    "3 ** 2"
   ]
  },
  {
   "cell_type": "markdown",
   "metadata": {},
   "source": [
    "⚠️ Be careful with the brackets: the power has the precedence. So, if brackets are missing, see what happens:\n",
    "\n",
    "---\n",
    "🇮🇹 Fai attenzione alle parentesi, la potenza ha la precedenza. Quindo, vedi cosa succede quando non le metti:"
   ]
  },
  {
   "cell_type": "code",
   "execution_count": null,
   "metadata": {},
   "outputs": [],
   "source": [
    "# This is like -(3 ** 2)\n",
    "# Questo equivale a -(3 ** 2)\n",
    "\n",
    "-3 ** 2"
   ]
  },
  {
   "cell_type": "code",
   "execution_count": null,
   "metadata": {},
   "outputs": [],
   "source": [
    "# While this is more obvious\n",
    "# Mentre questo è più ovvio\n",
    "\n",
    "(-3)**2"
   ]
  },
  {
   "cell_type": "markdown",
   "metadata": {},
   "source": [
    "Negative exponents return the reciprocal, as you may have already learned:\n",
    "\n",
    "\\begin{equation*}\n",
    "2^{-1} = \\frac{1}{2} = 0.5\n",
    "\\end{equation*}\n",
    "\n",
    "---\n",
    "🇮🇹 Esponenti negativi ritornano il reciproco, come forse hai già imparato."
   ]
  },
  {
   "cell_type": "code",
   "execution_count": null,
   "metadata": {},
   "outputs": [],
   "source": [
    "2**-1"
   ]
  },
  {
   "cell_type": "code",
   "execution_count": null,
   "metadata": {
    "scrolled": true
   },
   "outputs": [],
   "source": [
    "2**-2"
   ]
  },
  {
   "cell_type": "markdown",
   "metadata": {},
   "source": [
    "## 3.7 Using all of the operators: take care of the precedence 🚦\n",
    "\n",
    "The precedence order is like you learned at school.\n",
    "\n",
    "__BEMDAS:__\tBrackets, Exponents, Multiplication (or Division), Addition (or Subtraction).\n",
    "\n",
    "\n",
    "In case of doubt or for clarity: __use brackets__\n",
    "\n",
    "\n",
    "Check this example written as the code in the next cells:\n",
    "\n",
    "\\begin{equation*}\n",
    "100 - 20 + [(40\\div8) \\times 2^{(1+1)}]\n",
    "\\end{equation*}\n",
    "\n",
    "__Don't forget__ Python expressions use __only round brackets__\n",
    "\n",
    "---\n",
    "🇮🇹 __Usare tutti gli operatori: attenzione alla precedenza__ | La precedenza deglio operatori è la stessa che hai imparto a scuola. PEMDAS: Parentesi, Esponenti, Moltiplicazione (o Divisione), Addizione (o Sottrazione). | In caso di dubbio o per chiarezza __usa le parentesi__ | Controlla questo esempio scritto come codice nelle prossime celle. | __Non dimenticare:__ Le espressioni in Python usano solo le parentesi tonde."
   ]
  },
  {
   "cell_type": "code",
   "execution_count": null,
   "metadata": {},
   "outputs": [],
   "source": [
    "100 - 20 + 40 / 8 * 2**(1 + 1)"
   ]
  },
  {
   "cell_type": "code",
   "execution_count": null,
   "metadata": {},
   "outputs": [],
   "source": [
    "# This is the same expression but written in a clearer way\n",
    "# Questa è la stessa espressione, ma scritta più chiaramente\n",
    "\n",
    "100 - 20 + ( (40 / 8) * (2**(1 + 1)) )"
   ]
  },
  {
   "cell_type": "markdown",
   "metadata": {},
   "source": [
    "---\n",
    "## Playground\n",
    "Use the following cell (or add more as you like) for playing around and testing your code.\n",
    "\n",
    "---\n",
    "🇮🇹 __Parco giochi__ | Use la seguente cella (o aggiungine altre) per giocare e provare il tuo codice."
   ]
  },
  {
   "cell_type": "code",
   "execution_count": null,
   "metadata": {},
   "outputs": [],
   "source": []
  },
  {
   "cell_type": "markdown",
   "metadata": {},
   "source": [
    "___\n",
    "\n",
    "## That's all for now, see you in the next Notebook\n",
    "\n",
    "Go to the home page by clicking on the Jupyter logo.\n",
    "![Click the logo](https://github.com/giaxxi/pyetro/blob/master/assets/images/click-the-logo.jpg?raw=true \"Click the logo\")\n",
    "\n",
    "---\n",
    "🇮🇹 **È tutto per ora, ci vediamo nel prossimo Notebook** | Clicca il logo di Jupiter per tornale alla Home page"
   ]
  }
 ],
 "metadata": {
  "kernelspec": {
   "display_name": "Python 3",
   "language": "python",
   "name": "python3"
  },
  "language_info": {
   "codemirror_mode": {
    "name": "ipython",
    "version": 3
   },
   "file_extension": ".py",
   "mimetype": "text/x-python",
   "name": "python",
   "nbconvert_exporter": "python",
   "pygments_lexer": "ipython3",
   "version": "3.7.7"
  }
 },
 "nbformat": 4,
 "nbformat_minor": 4
}
